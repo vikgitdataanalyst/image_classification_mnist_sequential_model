{
 "cells": [
  {
   "cell_type": "markdown",
   "id": "2946f533",
   "metadata": {},
   "source": [
    "#### Libraries"
   ]
  },
  {
   "cell_type": "code",
   "execution_count": 4,
   "id": "d753a89c",
   "metadata": {},
   "outputs": [],
   "source": [
    "import numpy as np\n",
    "import pandas as pd\n",
    "import matplotlib.pyplot as plt\n",
    "import tensorflow as tf\n",
    "from tensorflow import keras"
   ]
  },
  {
   "cell_type": "markdown",
   "id": "bb67af3e",
   "metadata": {},
   "source": [
    "#### Loading dataset"
   ]
  },
  {
   "cell_type": "code",
   "execution_count": null,
   "id": "47c207b2",
   "metadata": {},
   "outputs": [
    {
     "data": {
      "text/plain": [
       "(60000, 10000)"
      ]
     },
     "execution_count": 13,
     "metadata": {},
     "output_type": "execute_result"
    }
   ],
   "source": [
    "(x_train,y_train),(x_test,y_test)=tf.keras.datasets.mnist.load_data()\n",
    "len(x_train),len(x_test) # length of training and testing data "
   ]
  },
  {
   "cell_type": "code",
   "execution_count": 26,
   "id": "a793e496",
   "metadata": {},
   "outputs": [
    {
     "data": {
      "text/plain": [
       "((60000, 28, 28), (10000, 28, 28))"
      ]
     },
     "execution_count": 26,
     "metadata": {},
     "output_type": "execute_result"
    }
   ],
   "source": [
    "x_train.shape,x_test.shape # shape of training and testing data"
   ]
  },
  {
   "cell_type": "code",
   "execution_count": 17,
   "id": "b15dc998",
   "metadata": {},
   "outputs": [
    {
     "data": {
      "text/plain": [
       "(28, 28)"
      ]
     },
     "execution_count": 17,
     "metadata": {},
     "output_type": "execute_result"
    }
   ],
   "source": [
    "x_train[0].shape # Each image is 28*28 pixels"
   ]
  },
  {
   "cell_type": "code",
   "execution_count": 100,
   "id": "cddfca1a",
   "metadata": {},
   "outputs": [
    {
     "data": {
      "text/plain": [
       "<matplotlib.image.AxesImage at 0x1dbb5a43910>"
      ]
     },
     "execution_count": 100,
     "metadata": {},
     "output_type": "execute_result"
    },
    {
     "data": {
      "image/png": "[encoded data removed]",
      "text/plain": [
       "<Figure size 640x480 with 1 Axes>"
      ]
     },
     "metadata": {},
     "output_type": "display_data"
    }
   ],
   "source": [
    "plt.imshow(x_train[0],cmap='gray') # Display the first image of the training set i.e '2'"
   ]
  },
  {
   "cell_type": "code",
   "execution_count": 99,
   "id": "eea43a21",
   "metadata": {},
   "outputs": [
    {
     "data": {
      "text/plain": [
       "<matplotlib.image.AxesImage at 0x1dbb5a27490>"
      ]
     },
     "execution_count": 99,
     "metadata": {},
     "output_type": "execute_result"
    },
    {
     "data": {
      "image/png": "[encoded data removed]",
      "text/plain": [
       "<Figure size 640x480 with 1 Axes>"
      ]
     },
     "metadata": {},
     "output_type": "display_data"
    }
   ],
   "source": [
    "plt.imshow(x_test[0],cmap='gray') # Display the first image of the testing data i.e '7'"
   ]
  },
  {
   "cell_type": "code",
   "execution_count": 23,
   "id": "f3f614c4",
   "metadata": {},
   "outputs": [
    {
     "data": {
      "text/plain": [
       "(28, 28)"
      ]
     },
     "execution_count": 23,
     "metadata": {},
     "output_type": "execute_result"
    }
   ],
   "source": [
    "x_test[0].shape # Each image is 28*28 pixels"
   ]
  },
  {
   "cell_type": "markdown",
   "id": "cf0ca3b7",
   "metadata": {},
   "source": [
    "#### Normalizing data"
   ]
  },
  {
   "cell_type": "code",
   "execution_count": 39,
   "id": "390a7df9",
   "metadata": {},
   "outputs": [],
   "source": [
    "x_train=x_train/255.0\n",
    "x_test=x_test/255.0"
   ]
  },
  {
   "cell_type": "markdown",
   "id": "beb14715",
   "metadata": {},
   "source": [
    "#### Flatten 2d data into 1d data"
   ]
  },
  {
   "cell_type": "code",
   "execution_count": 40,
   "id": "88d7d6f5",
   "metadata": {},
   "outputs": [],
   "source": [
    "x_train_flatten=x_train.reshape(len(x_train),28*28)\n",
    "x_test_flatten=x_test.reshape(len(x_test),28*28)"
   ]
  },
  {
   "cell_type": "code",
   "execution_count": 41,
   "id": "42270c90",
   "metadata": {},
   "outputs": [
    {
     "data": {
      "text/plain": [
       "((60000, 784), (10000, 784))"
      ]
     },
     "execution_count": 41,
     "metadata": {},
     "output_type": "execute_result"
    }
   ],
   "source": [
    "x_train_flatten.shape,x_test_flatten.shape"
   ]
  },
  {
   "cell_type": "markdown",
   "id": "429b4ec2",
   "metadata": {},
   "source": [
    "#### Importing dense layer and sequential model"
   ]
  },
  {
   "cell_type": "code",
   "execution_count": 42,
   "id": "228583c0",
   "metadata": {},
   "outputs": [],
   "source": [
    "from keras.models import Sequential\n",
    "from keras.layers import Dense,Flatten"
   ]
  },
  {
   "cell_type": "code",
   "execution_count": 43,
   "id": "b9c198de",
   "metadata": {},
   "outputs": [],
   "source": [
    "model=Sequential()"
   ]
  },
  {
   "cell_type": "code",
   "execution_count": null,
   "id": "4ee9dc40",
   "metadata": {},
   "outputs": [],
   "source": [
    "model = Sequential([\n",
    "    Dense(128, activation='relu', input_shape=(784,)), # first layer with 128 neurons and ReLu as activation function\n",
    "    Dense(64, activation='relu'), # second layer with 64 neurons and ReLu as activation function\n",
    "    Dense(10, activation='softmax')  # 10  output layer for digits 0-9 we use sigmoid activation function for binary classification\n",
    "])\n"
   ]
  },
  {
   "cell_type": "code",
   "execution_count": 46,
   "id": "a7615da5",
   "metadata": {},
   "outputs": [
    {
     "data": {
      "text/html": [
       "<pre style=\"white-space:pre;overflow-x:auto;line-height:normal;font-family:Menlo,'DejaVu Sans Mono',consolas,'Courier New',monospace\"><span style=\"font-weight: bold\">Model: \"sequential_4\"</span>\n",
       "</pre>\n"
      ],
      "text/plain": [
       "\u001b[1mModel: \"sequential_4\"\u001b[0m\n"
      ]
     },
     "metadata": {},
     "output_type": "display_data"
    },
    {
     "data": {
      "text/html": [
       "<pre style=\"white-space:pre;overflow-x:auto;line-height:normal;font-family:Menlo,'DejaVu Sans Mono',consolas,'Courier New',monospace\">┏━━━━━━━━━━━━━━━━━━━━━━━━━━━━━━━━━┳━━━━━━━━━━━━━━━━━━━━━━━━┳━━━━━━━━━━━━━━━┓\n",
       "┃<span style=\"font-weight: bold\"> Layer (type)                    </span>┃<span style=\"font-weight: bold\"> Output Shape           </span>┃<span style=\"font-weight: bold\">       Param # </span>┃\n",
       "┡━━━━━━━━━━━━━━━━━━━━━━━━━━━━━━━━━╇━━━━━━━━━━━━━━━━━━━━━━━━╇━━━━━━━━━━━━━━━┩\n",
       "│ dense_6 (<span style=\"color: #0087ff; text-decoration-color: #0087ff\">Dense</span>)                 │ (<span style=\"color: #00d7ff; text-decoration-color: #00d7ff\">None</span>, <span style=\"color: #00af00; text-decoration-color: #00af00\">128</span>)            │       <span style=\"color: #00af00; text-decoration-color: #00af00\">100,480</span> │\n",
       "├─────────────────────────────────┼────────────────────────┼───────────────┤\n",
       "│ dense_7 (<span style=\"color: #0087ff; text-decoration-color: #0087ff\">Dense</span>)                 │ (<span style=\"color: #00d7ff; text-decoration-color: #00d7ff\">None</span>, <span style=\"color: #00af00; text-decoration-color: #00af00\">64</span>)             │         <span style=\"color: #00af00; text-decoration-color: #00af00\">8,256</span> │\n",
       "├─────────────────────────────────┼────────────────────────┼───────────────┤\n",
       "│ dense_8 (<span style=\"color: #0087ff; text-decoration-color: #0087ff\">Dense</span>)                 │ (<span style=\"color: #00d7ff; text-decoration-color: #00d7ff\">None</span>, <span style=\"color: #00af00; text-decoration-color: #00af00\">10</span>)             │           <span style=\"color: #00af00; text-decoration-color: #00af00\">650</span> │\n",
       "└─────────────────────────────────┴────────────────────────┴───────────────┘\n",
       "</pre>\n"
      ],
      "text/plain": [
       "┏━━━━━━━━━━━━━━━━━━━━━━━━━━━━━━━━━┳━━━━━━━━━━━━━━━━━━━━━━━━┳━━━━━━━━━━━━━━━┓\n",
       "┃\u001b[1m \u001b[0m\u001b[1mLayer (type)                   \u001b[0m\u001b[1m \u001b[0m┃\u001b[1m \u001b[0m\u001b[1mOutput Shape          \u001b[0m\u001b[1m \u001b[0m┃\u001b[1m \u001b[0m\u001b[1m      Param #\u001b[0m\u001b[1m \u001b[0m┃\n",
       "┡━━━━━━━━━━━━━━━━━━━━━━━━━━━━━━━━━╇━━━━━━━━━━━━━━━━━━━━━━━━╇━━━━━━━━━━━━━━━┩\n",
       "│ dense_6 (\u001b[38;5;33mDense\u001b[0m)                 │ (\u001b[38;5;45mNone\u001b[0m, \u001b[38;5;34m128\u001b[0m)            │       \u001b[38;5;34m100,480\u001b[0m │\n",
       "├─────────────────────────────────┼────────────────────────┼───────────────┤\n",
       "│ dense_7 (\u001b[38;5;33mDense\u001b[0m)                 │ (\u001b[38;5;45mNone\u001b[0m, \u001b[38;5;34m64\u001b[0m)             │         \u001b[38;5;34m8,256\u001b[0m │\n",
       "├─────────────────────────────────┼────────────────────────┼───────────────┤\n",
       "│ dense_8 (\u001b[38;5;33mDense\u001b[0m)                 │ (\u001b[38;5;45mNone\u001b[0m, \u001b[38;5;34m10\u001b[0m)             │           \u001b[38;5;34m650\u001b[0m │\n",
       "└─────────────────────────────────┴────────────────────────┴───────────────┘\n"
      ]
     },
     "metadata": {},
     "output_type": "display_data"
    },
    {
     "data": {
      "text/html": [
       "<pre style=\"white-space:pre;overflow-x:auto;line-height:normal;font-family:Menlo,'DejaVu Sans Mono',consolas,'Courier New',monospace\"><span style=\"font-weight: bold\"> Total params: </span><span style=\"color: #00af00; text-decoration-color: #00af00\">109,386</span> (427.29 KB)\n",
       "</pre>\n"
      ],
      "text/plain": [
       "\u001b[1m Total params: \u001b[0m\u001b[38;5;34m109,386\u001b[0m (427.29 KB)\n"
      ]
     },
     "metadata": {},
     "output_type": "display_data"
    },
    {
     "data": {
      "text/html": [
       "<pre style=\"white-space:pre;overflow-x:auto;line-height:normal;font-family:Menlo,'DejaVu Sans Mono',consolas,'Courier New',monospace\"><span style=\"font-weight: bold\"> Trainable params: </span><span style=\"color: #00af00; text-decoration-color: #00af00\">109,386</span> (427.29 KB)\n",
       "</pre>\n"
      ],
      "text/plain": [
       "\u001b[1m Trainable params: \u001b[0m\u001b[38;5;34m109,386\u001b[0m (427.29 KB)\n"
      ]
     },
     "metadata": {},
     "output_type": "display_data"
    },
    {
     "data": {
      "text/html": [
       "<pre style=\"white-space:pre;overflow-x:auto;line-height:normal;font-family:Menlo,'DejaVu Sans Mono',consolas,'Courier New',monospace\"><span style=\"font-weight: bold\"> Non-trainable params: </span><span style=\"color: #00af00; text-decoration-color: #00af00\">0</span> (0.00 B)\n",
       "</pre>\n"
      ],
      "text/plain": [
       "\u001b[1m Non-trainable params: \u001b[0m\u001b[38;5;34m0\u001b[0m (0.00 B)\n"
      ]
     },
     "metadata": {},
     "output_type": "display_data"
    }
   ],
   "source": [
    "model.summary()"
   ]
  },
  {
   "cell_type": "code",
   "execution_count": null,
   "id": "9e446973",
   "metadata": {},
   "outputs": [],
   "source": [
    "model.compile(optimizer='adam',loss='sparse_categorical_crossentropy',metrics=['accuracy']) "
   ]
  },
  {
   "cell_type": "markdown",
   "id": "f6ca9f8f",
   "metadata": {},
   "source": [
    "#### Fitting our model"
   ]
  },
  {
   "cell_type": "code",
   "execution_count": 70,
   "id": "7d95ddd4",
   "metadata": {},
   "outputs": [
    {
     "name": "stdout",
     "output_type": "stream",
     "text": [
      "Epoch 1/10\n",
      "\u001b[1m600/600\u001b[0m \u001b[32m━━━━━━━━━━━━━━━━━━━━\u001b[0m\u001b[37m\u001b[0m \u001b[1m8s\u001b[0m 11ms/step - accuracy: 0.9575 - loss: 0.1496\n",
      "Epoch 2/10\n",
      "\u001b[1m600/600\u001b[0m \u001b[32m━━━━━━━━━━━━━━━━━━━━\u001b[0m\u001b[37m\u001b[0m \u001b[1m6s\u001b[0m 10ms/step - accuracy: 0.9580 - loss: 0.1447\n",
      "Epoch 3/10\n",
      "\u001b[1m600/600\u001b[0m \u001b[32m━━━━━━━━━━━━━━━━━━━━\u001b[0m\u001b[37m\u001b[0m \u001b[1m8s\u001b[0m 13ms/step - accuracy: 0.9587 - loss: 0.1443\n",
      "Epoch 4/10\n",
      "\u001b[1m600/600\u001b[0m \u001b[32m━━━━━━━━━━━━━━━━━━━━\u001b[0m\u001b[37m\u001b[0m \u001b[1m7s\u001b[0m 12ms/step - accuracy: 0.9597 - loss: 0.1363\n",
      "Epoch 5/10\n",
      "\u001b[1m600/600\u001b[0m \u001b[32m━━━━━━━━━━━━━━━━━━━━\u001b[0m\u001b[37m\u001b[0m \u001b[1m9s\u001b[0m 14ms/step - accuracy: 0.9608 - loss: 0.1341\n",
      "Epoch 6/10\n",
      "\u001b[1m600/600\u001b[0m \u001b[32m━━━━━━━━━━━━━━━━━━━━\u001b[0m\u001b[37m\u001b[0m \u001b[1m6s\u001b[0m 10ms/step - accuracy: 0.9634 - loss: 0.1280\n",
      "Epoch 7/10\n",
      "\u001b[1m600/600\u001b[0m \u001b[32m━━━━━━━━━━━━━━━━━━━━\u001b[0m\u001b[37m\u001b[0m \u001b[1m7s\u001b[0m 11ms/step - accuracy: 0.9631 - loss: 0.1235\n",
      "Epoch 8/10\n",
      "\u001b[1m600/600\u001b[0m \u001b[32m━━━━━━━━━━━━━━━━━━━━\u001b[0m\u001b[37m\u001b[0m \u001b[1m7s\u001b[0m 11ms/step - accuracy: 0.9666 - loss: 0.1147\n",
      "Epoch 9/10\n",
      "\u001b[1m600/600\u001b[0m \u001b[32m━━━━━━━━━━━━━━━━━━━━\u001b[0m\u001b[37m\u001b[0m \u001b[1m8s\u001b[0m 14ms/step - accuracy: 0.9661 - loss: 0.1180\n",
      "Epoch 10/10\n",
      "\u001b[1m600/600\u001b[0m \u001b[32m━━━━━━━━━━━━━━━━━━━━\u001b[0m\u001b[37m\u001b[0m \u001b[1m9s\u001b[0m 14ms/step - accuracy: 0.9693 - loss: 0.1072\n"
     ]
    },
    {
     "data": {
      "text/plain": [
       "<keras.src.callbacks.history.History at 0x1dbc6637650>"
      ]
     },
     "execution_count": 70,
     "metadata": {},
     "output_type": "execute_result"
    }
   ],
   "source": [
    "model.fit(x_train_flatten,y_train,epochs=10,batch_size=100)"
   ]
  },
  {
   "cell_type": "markdown",
   "id": "3c3279f2",
   "metadata": {},
   "source": [
    "#### Evaluating accuracy"
   ]
  },
  {
   "cell_type": "code",
   "execution_count": 73,
   "id": "377f86b0",
   "metadata": {},
   "outputs": [
    {
     "name": "stdout",
     "output_type": "stream",
     "text": [
      "\u001b[1m313/313\u001b[0m \u001b[32m━━━━━━━━━━━━━━━━━━━━\u001b[0m\u001b[37m\u001b[0m \u001b[1m2s\u001b[0m 7ms/step - accuracy: 0.9545 - loss: 0.1477\n"
     ]
    }
   ],
   "source": [
    "accuracy=model.evaluate(x_test_flatten,y_test)"
   ]
  },
  {
   "cell_type": "markdown",
   "id": "bf641704",
   "metadata": {},
   "source": [
    "#### Checking model's accuracy with some images"
   ]
  },
  {
   "cell_type": "code",
   "execution_count": 58,
   "id": "98ce407e",
   "metadata": {},
   "outputs": [
    {
     "data": {
      "text/plain": [
       "<matplotlib.image.AxesImage at 0x1dbc6892a50>"
      ]
     },
     "execution_count": 58,
     "metadata": {},
     "output_type": "execute_result"
    },
    {
     "data": {
      "image/png": "[encoded data removed]",
      "text/plain": [
       "<Figure size 640x480 with 1 Axes>"
      ]
     },
     "metadata": {},
     "output_type": "display_data"
    }
   ],
   "source": [
    "plt.imshow(x_test[0]) # First image is seven"
   ]
  },
  {
   "cell_type": "code",
   "execution_count": 76,
   "id": "a5880950",
   "metadata": {},
   "outputs": [
    {
     "name": "stdout",
     "output_type": "stream",
     "text": [
      "\u001b[1m1/1\u001b[0m \u001b[32m━━━━━━━━━━━━━━━━━━━━\u001b[0m\u001b[37m\u001b[0m \u001b[1m0s\u001b[0m 70ms/step\n"
     ]
    },
    {
     "data": {
      "text/plain": [
       "array([[2.3922761e-05, 1.9473825e-09, 1.5441816e-04, 5.9570419e-03,\n",
       "        1.1323202e-09, 3.5304871e-05, 4.2397428e-14, 9.9368203e-01,\n",
       "        7.7974491e-06, 1.3952899e-04]], dtype=float32)"
      ]
     },
     "execution_count": 76,
     "metadata": {},
     "output_type": "execute_result"
    }
   ],
   "source": [
    "first_img_prediction=model.predict(x_test_flatten[0].reshape(1,784))\n",
    "first_img_prediction"
   ]
  },
  {
   "cell_type": "code",
   "execution_count": 77,
   "id": "0bdd3433",
   "metadata": {},
   "outputs": [
    {
     "data": {
      "text/plain": [
       "np.int64(7)"
      ]
     },
     "execution_count": 77,
     "metadata": {},
     "output_type": "execute_result"
    }
   ],
   "source": [
    "first_img_idx=np.argmax(first_img_prediction) # it predict index of maximum value in numpy array\n",
    "first_img_idx"
   ]
  },
  {
   "cell_type": "code",
   "execution_count": 80,
   "id": "915a55b7",
   "metadata": {},
   "outputs": [
    {
     "data": {
      "text/plain": [
       "<matplotlib.image.AxesImage at 0x1dbc0860210>"
      ]
     },
     "execution_count": 80,
     "metadata": {},
     "output_type": "execute_result"
    },
    {
     "data": {
      "image/png": "[encoded data removed]",
      "text/plain": [
       "<Figure size 640x480 with 1 Axes>"
      ]
     },
     "metadata": {},
     "output_type": "display_data"
    }
   ],
   "source": [
    "plt.imshow(x_test[1],cmap='gray') # Second image is two"
   ]
  },
  {
   "cell_type": "code",
   "execution_count": 82,
   "id": "ae136e14",
   "metadata": {},
   "outputs": [
    {
     "name": "stdout",
     "output_type": "stream",
     "text": [
      "\u001b[1m1/1\u001b[0m \u001b[32m━━━━━━━━━━━━━━━━━━━━\u001b[0m\u001b[37m\u001b[0m \u001b[1m0s\u001b[0m 84ms/step\n"
     ]
    },
    {
     "data": {
      "text/plain": [
       "array([[1.9637751e-05, 1.9201392e-04, 9.8816842e-01, 1.1502805e-02,\n",
       "        4.0653682e-14, 5.6347482e-05, 4.8816233e-05, 4.6367962e-10,\n",
       "        1.2051023e-05, 1.3046543e-14]], dtype=float32)"
      ]
     },
     "execution_count": 82,
     "metadata": {},
     "output_type": "execute_result"
    }
   ],
   "source": [
    "second_img_prediction=model.predict(x_test_flatten[1].reshape(1,784))\n",
    "second_img_prediction"
   ]
  },
  {
   "cell_type": "code",
   "execution_count": 83,
   "id": "557ddc9b",
   "metadata": {},
   "outputs": [
    {
     "data": {
      "text/plain": [
       "np.int64(2)"
      ]
     },
     "execution_count": 83,
     "metadata": {},
     "output_type": "execute_result"
    }
   ],
   "source": [
    "second_img_idx=np.argmax(second_img_prediction)\n",
    "second_img_idx\n"
   ]
  },
  {
   "cell_type": "code",
   "execution_count": 87,
   "id": "bff5bd52",
   "metadata": {},
   "outputs": [
    {
     "name": "stdout",
     "output_type": "stream",
     "text": [
      "\u001b[1m313/313\u001b[0m \u001b[32m━━━━━━━━━━━━━━━━━━━━\u001b[0m\u001b[37m\u001b[0m \u001b[1m2s\u001b[0m 6ms/step\n"
     ]
    },
    {
     "data": {
      "text/plain": [
       "array([[2.3922785e-05, 1.9473863e-09, 1.5441830e-04, ..., 9.9368203e-01,\n",
       "        7.7974564e-06, 1.3952912e-04],\n",
       "       [1.9637731e-05, 1.9201355e-04, 9.8816842e-01, ..., 4.6368051e-10,\n",
       "        1.2051023e-05, 1.3046543e-14],\n",
       "       [2.2799121e-07, 9.9284065e-01, 1.3480244e-03, ..., 1.6101374e-03,\n",
       "        2.0292487e-03, 6.6259156e-05],\n",
       "       ...,\n",
       "       [8.6842747e-12, 4.3320693e-08, 1.3433050e-09, ..., 1.4873372e-05,\n",
       "        3.8709608e-04, 2.7208922e-03],\n",
       "       [3.0209953e-06, 4.7548303e-07, 2.2313660e-09, ..., 7.4617947e-09,\n",
       "        1.1037372e-03, 1.2142272e-07],\n",
       "       [4.6285004e-05, 2.4891957e-12, 2.7822094e-05, ..., 5.2793451e-12,\n",
       "        3.0689066e-07, 8.7436464e-10]], dtype=float32)"
      ]
     },
     "execution_count": 87,
     "metadata": {},
     "output_type": "execute_result"
    }
   ],
   "source": [
    "y_predicted=model.predict(x_test_flatten)\n",
    "y_predicted"
   ]
  },
  {
   "cell_type": "code",
   "execution_count": 88,
   "id": "412cfac3",
   "metadata": {},
   "outputs": [
    {
     "data": {
      "text/plain": [
       "[np.int64(7),\n",
       " np.int64(2),\n",
       " np.int64(1),\n",
       " np.int64(0),\n",
       " np.int64(4),\n",
       " np.int64(1),\n",
       " np.int64(4),\n",
       " np.int64(9),\n",
       " np.int64(6),\n",
       " np.int64(9),\n",
       " np.int64(0),\n",
       " np.int64(6),\n",
       " np.int64(9),\n",
       " np.int64(0),\n",
       " np.int64(1),\n",
       " np.int64(5),\n",
       " np.int64(9),\n",
       " np.int64(7),\n",
       " np.int64(3),\n",
       " np.int64(4),\n",
       " np.int64(9),\n",
       " np.int64(6),\n",
       " np.int64(6),\n",
       " np.int64(5),\n",
       " np.int64(4),\n",
       " np.int64(0),\n",
       " np.int64(7),\n",
       " np.int64(4),\n",
       " np.int64(0),\n",
       " np.int64(1),\n",
       " np.int64(3),\n",
       " np.int64(1),\n",
       " np.int64(3),\n",
       " np.int64(0),\n",
       " np.int64(7),\n",
       " np.int64(2),\n",
       " np.int64(7),\n",
       " np.int64(1),\n",
       " np.int64(3),\n",
       " np.int64(1),\n",
       " np.int64(1),\n",
       " np.int64(7),\n",
       " np.int64(4),\n",
       " np.int64(2),\n",
       " np.int64(3),\n",
       " np.int64(5),\n",
       " np.int64(1),\n",
       " np.int64(2),\n",
       " np.int64(4),\n",
       " np.int64(4),\n",
       " np.int64(6),\n",
       " np.int64(3),\n",
       " np.int64(5),\n",
       " np.int64(5),\n",
       " np.int64(6),\n",
       " np.int64(0),\n",
       " np.int64(4),\n",
       " np.int64(1),\n",
       " np.int64(9),\n",
       " np.int64(5),\n",
       " np.int64(7),\n",
       " np.int64(8),\n",
       " np.int64(9),\n",
       " np.int64(3),\n",
       " np.int64(7),\n",
       " np.int64(4),\n",
       " np.int64(6),\n",
       " np.int64(4),\n",
       " np.int64(3),\n",
       " np.int64(0),\n",
       " np.int64(7),\n",
       " np.int64(0),\n",
       " np.int64(2),\n",
       " np.int64(9),\n",
       " np.int64(1),\n",
       " np.int64(7),\n",
       " np.int64(3),\n",
       " np.int64(2),\n",
       " np.int64(9),\n",
       " np.int64(7),\n",
       " np.int64(7),\n",
       " np.int64(6),\n",
       " np.int64(2),\n",
       " np.int64(7),\n",
       " np.int64(8),\n",
       " np.int64(4),\n",
       " np.int64(7),\n",
       " np.int64(3),\n",
       " np.int64(6),\n",
       " np.int64(1),\n",
       " np.int64(3),\n",
       " np.int64(6),\n",
       " np.int64(9),\n",
       " np.int64(3),\n",
       " np.int64(1),\n",
       " np.int64(4),\n",
       " np.int64(1),\n",
       " np.int64(7),\n",
       " np.int64(6),\n",
       " np.int64(9),\n",
       " np.int64(6),\n",
       " np.int64(0),\n",
       " np.int64(5),\n",
       " np.int64(4),\n",
       " np.int64(9),\n",
       " np.int64(9),\n",
       " np.int64(2),\n",
       " np.int64(1),\n",
       " np.int64(9),\n",
       " np.int64(4),\n",
       " np.int64(8),\n",
       " np.int64(7),\n",
       " np.int64(3),\n",
       " np.int64(9),\n",
       " np.int64(7),\n",
       " np.int64(4),\n",
       " np.int64(4),\n",
       " np.int64(4),\n",
       " np.int64(9),\n",
       " np.int64(2),\n",
       " np.int64(5),\n",
       " np.int64(4),\n",
       " np.int64(7),\n",
       " np.int64(6),\n",
       " np.int64(7),\n",
       " np.int64(9),\n",
       " np.int64(0),\n",
       " np.int64(5),\n",
       " np.int64(8),\n",
       " np.int64(5),\n",
       " np.int64(6),\n",
       " np.int64(6),\n",
       " np.int64(5),\n",
       " np.int64(7),\n",
       " np.int64(8),\n",
       " np.int64(1),\n",
       " np.int64(0),\n",
       " np.int64(1),\n",
       " np.int64(6),\n",
       " np.int64(4),\n",
       " np.int64(6),\n",
       " np.int64(7),\n",
       " np.int64(3),\n",
       " np.int64(1),\n",
       " np.int64(7),\n",
       " np.int64(1),\n",
       " np.int64(8),\n",
       " np.int64(2),\n",
       " np.int64(0),\n",
       " np.int64(9),\n",
       " np.int64(9),\n",
       " np.int64(9),\n",
       " np.int64(5),\n",
       " np.int64(5),\n",
       " np.int64(1),\n",
       " np.int64(5),\n",
       " np.int64(6),\n",
       " np.int64(0),\n",
       " np.int64(3),\n",
       " np.int64(4),\n",
       " np.int64(4),\n",
       " np.int64(6),\n",
       " np.int64(5),\n",
       " np.int64(4),\n",
       " np.int64(6),\n",
       " np.int64(5),\n",
       " np.int64(4),\n",
       " np.int64(5),\n",
       " np.int64(1),\n",
       " np.int64(4),\n",
       " np.int64(4),\n",
       " np.int64(7),\n",
       " np.int64(2),\n",
       " np.int64(3),\n",
       " np.int64(2),\n",
       " np.int64(7),\n",
       " np.int64(1),\n",
       " np.int64(8),\n",
       " np.int64(1),\n",
       " np.int64(8),\n",
       " np.int64(1),\n",
       " np.int64(8),\n",
       " np.int64(5),\n",
       " np.int64(0),\n",
       " np.int64(8),\n",
       " np.int64(9),\n",
       " np.int64(2),\n",
       " np.int64(5),\n",
       " np.int64(0),\n",
       " np.int64(1),\n",
       " np.int64(1),\n",
       " np.int64(1),\n",
       " np.int64(0),\n",
       " np.int64(9),\n",
       " np.int64(0),\n",
       " np.int64(3),\n",
       " np.int64(1),\n",
       " np.int64(6),\n",
       " np.int64(4),\n",
       " np.int64(2),\n",
       " np.int64(3),\n",
       " np.int64(6),\n",
       " np.int64(1),\n",
       " np.int64(1),\n",
       " np.int64(1),\n",
       " np.int64(3),\n",
       " np.int64(9),\n",
       " np.int64(5),\n",
       " np.int64(2),\n",
       " np.int64(9),\n",
       " np.int64(4),\n",
       " np.int64(5),\n",
       " np.int64(9),\n",
       " np.int64(3),\n",
       " np.int64(9),\n",
       " np.int64(0),\n",
       " np.int64(3),\n",
       " np.int64(6),\n",
       " np.int64(5),\n",
       " np.int64(5),\n",
       " np.int64(7),\n",
       " np.int64(2),\n",
       " np.int64(2),\n",
       " np.int64(7),\n",
       " np.int64(1),\n",
       " np.int64(2),\n",
       " np.int64(8),\n",
       " np.int64(4),\n",
       " np.int64(1),\n",
       " np.int64(7),\n",
       " np.int64(3),\n",
       " np.int64(3),\n",
       " np.int64(8),\n",
       " np.int64(3),\n",
       " np.int64(7),\n",
       " np.int64(9),\n",
       " np.int64(2),\n",
       " np.int64(2),\n",
       " np.int64(4),\n",
       " np.int64(1),\n",
       " np.int64(5),\n",
       " np.int64(8),\n",
       " np.int64(8),\n",
       " np.int64(7),\n",
       " np.int64(2),\n",
       " np.int64(3),\n",
       " np.int64(0),\n",
       " np.int64(6),\n",
       " np.int64(4),\n",
       " np.int64(2),\n",
       " np.int64(4),\n",
       " np.int64(1),\n",
       " np.int64(9),\n",
       " np.int64(5),\n",
       " np.int64(7),\n",
       " np.int64(7),\n",
       " np.int64(2),\n",
       " np.int64(8),\n",
       " np.int64(2),\n",
       " np.int64(0),\n",
       " np.int64(8),\n",
       " np.int64(5),\n",
       " np.int64(7),\n",
       " np.int64(7),\n",
       " np.int64(9),\n",
       " np.int64(1),\n",
       " np.int64(8),\n",
       " np.int64(1),\n",
       " np.int64(8),\n",
       " np.int64(0),\n",
       " np.int64(3),\n",
       " np.int64(0),\n",
       " np.int64(1),\n",
       " np.int64(9),\n",
       " np.int64(9),\n",
       " np.int64(4),\n",
       " np.int64(1),\n",
       " np.int64(8),\n",
       " np.int64(2),\n",
       " np.int64(1),\n",
       " np.int64(2),\n",
       " np.int64(9),\n",
       " np.int64(7),\n",
       " np.int64(5),\n",
       " np.int64(9),\n",
       " np.int64(2),\n",
       " np.int64(6),\n",
       " np.int64(4),\n",
       " np.int64(1),\n",
       " np.int64(5),\n",
       " np.int64(4),\n",
       " np.int64(2),\n",
       " np.int64(9),\n",
       " np.int64(2),\n",
       " np.int64(0),\n",
       " np.int64(4),\n",
       " np.int64(0),\n",
       " np.int64(0),\n",
       " np.int64(2),\n",
       " np.int64(8),\n",
       " np.int64(4),\n",
       " np.int64(7),\n",
       " np.int64(1),\n",
       " np.int64(2),\n",
       " np.int64(4),\n",
       " np.int64(0),\n",
       " np.int64(2),\n",
       " np.int64(7),\n",
       " np.int64(4),\n",
       " np.int64(3),\n",
       " np.int64(3),\n",
       " np.int64(0),\n",
       " np.int64(0),\n",
       " np.int64(3),\n",
       " np.int64(1),\n",
       " np.int64(9),\n",
       " np.int64(6),\n",
       " np.int64(5),\n",
       " np.int64(2),\n",
       " np.int64(5),\n",
       " np.int64(9),\n",
       " np.int64(7),\n",
       " np.int64(9),\n",
       " np.int64(3),\n",
       " np.int64(0),\n",
       " np.int64(4),\n",
       " np.int64(2),\n",
       " np.int64(0),\n",
       " np.int64(7),\n",
       " np.int64(1),\n",
       " np.int64(1),\n",
       " np.int64(2),\n",
       " np.int64(1),\n",
       " np.int64(5),\n",
       " np.int64(3),\n",
       " np.int64(3),\n",
       " np.int64(9),\n",
       " np.int64(7),\n",
       " np.int64(8),\n",
       " np.int64(6),\n",
       " np.int64(3),\n",
       " np.int64(6),\n",
       " np.int64(1),\n",
       " np.int64(3),\n",
       " np.int64(8),\n",
       " np.int64(1),\n",
       " np.int64(0),\n",
       " np.int64(5),\n",
       " np.int64(1),\n",
       " np.int64(3),\n",
       " np.int64(1),\n",
       " np.int64(5),\n",
       " np.int64(0),\n",
       " np.int64(6),\n",
       " np.int64(1),\n",
       " np.int64(8),\n",
       " np.int64(5),\n",
       " np.int64(1),\n",
       " np.int64(7),\n",
       " np.int64(9),\n",
       " np.int64(4),\n",
       " np.int64(6),\n",
       " np.int64(7),\n",
       " np.int64(2),\n",
       " np.int64(5),\n",
       " np.int64(0),\n",
       " np.int64(6),\n",
       " np.int64(5),\n",
       " np.int64(6),\n",
       " np.int64(3),\n",
       " np.int64(7),\n",
       " np.int64(2),\n",
       " np.int64(0),\n",
       " np.int64(8),\n",
       " np.int64(8),\n",
       " np.int64(5),\n",
       " np.int64(4),\n",
       " np.int64(1),\n",
       " np.int64(1),\n",
       " np.int64(4),\n",
       " np.int64(0),\n",
       " np.int64(7),\n",
       " np.int64(3),\n",
       " np.int64(7),\n",
       " np.int64(6),\n",
       " np.int64(1),\n",
       " np.int64(6),\n",
       " np.int64(2),\n",
       " np.int64(1),\n",
       " np.int64(9),\n",
       " np.int64(2),\n",
       " np.int64(8),\n",
       " np.int64(6),\n",
       " np.int64(1),\n",
       " np.int64(9),\n",
       " np.int64(5),\n",
       " np.int64(2),\n",
       " np.int64(5),\n",
       " np.int64(4),\n",
       " np.int64(4),\n",
       " np.int64(2),\n",
       " np.int64(8),\n",
       " np.int64(3),\n",
       " np.int64(5),\n",
       " np.int64(2),\n",
       " np.int64(4),\n",
       " np.int64(5),\n",
       " np.int64(0),\n",
       " np.int64(3),\n",
       " np.int64(1),\n",
       " np.int64(7),\n",
       " np.int64(7),\n",
       " np.int64(5),\n",
       " np.int64(7),\n",
       " np.int64(9),\n",
       " np.int64(7),\n",
       " np.int64(1),\n",
       " np.int64(9),\n",
       " np.int64(2),\n",
       " np.int64(1),\n",
       " np.int64(4),\n",
       " np.int64(2),\n",
       " np.int64(9),\n",
       " np.int64(2),\n",
       " np.int64(0),\n",
       " np.int64(4),\n",
       " np.int64(9),\n",
       " np.int64(1),\n",
       " np.int64(4),\n",
       " np.int64(8),\n",
       " np.int64(1),\n",
       " np.int64(8),\n",
       " np.int64(4),\n",
       " np.int64(5),\n",
       " np.int64(9),\n",
       " np.int64(8),\n",
       " np.int64(8),\n",
       " np.int64(3),\n",
       " np.int64(7),\n",
       " np.int64(6),\n",
       " np.int64(0),\n",
       " np.int64(0),\n",
       " np.int64(3),\n",
       " np.int64(0),\n",
       " np.int64(2),\n",
       " np.int64(0),\n",
       " np.int64(6),\n",
       " np.int64(4),\n",
       " np.int64(8),\n",
       " np.int64(3),\n",
       " np.int64(3),\n",
       " np.int64(3),\n",
       " np.int64(2),\n",
       " np.int64(3),\n",
       " np.int64(9),\n",
       " np.int64(1),\n",
       " np.int64(2),\n",
       " np.int64(6),\n",
       " np.int64(8),\n",
       " np.int64(0),\n",
       " np.int64(5),\n",
       " np.int64(6),\n",
       " np.int64(6),\n",
       " np.int64(6),\n",
       " np.int64(3),\n",
       " np.int64(8),\n",
       " np.int64(8),\n",
       " np.int64(2),\n",
       " np.int64(7),\n",
       " np.int64(5),\n",
       " np.int64(8),\n",
       " np.int64(9),\n",
       " np.int64(6),\n",
       " np.int64(1),\n",
       " np.int64(8),\n",
       " np.int64(4),\n",
       " np.int64(1),\n",
       " np.int64(2),\n",
       " np.int64(8),\n",
       " np.int64(9),\n",
       " np.int64(1),\n",
       " np.int64(9),\n",
       " np.int64(7),\n",
       " np.int64(5),\n",
       " np.int64(4),\n",
       " np.int64(0),\n",
       " np.int64(8),\n",
       " np.int64(9),\n",
       " np.int64(9),\n",
       " np.int64(1),\n",
       " np.int64(0),\n",
       " np.int64(5),\n",
       " np.int64(2),\n",
       " np.int64(3),\n",
       " np.int64(7),\n",
       " np.int64(0),\n",
       " np.int64(9),\n",
       " np.int64(4),\n",
       " np.int64(0),\n",
       " np.int64(6),\n",
       " np.int64(3),\n",
       " np.int64(9),\n",
       " np.int64(5),\n",
       " np.int64(2),\n",
       " np.int64(1),\n",
       " np.int64(3),\n",
       " np.int64(1),\n",
       " np.int64(3),\n",
       " np.int64(6),\n",
       " np.int64(5),\n",
       " np.int64(7),\n",
       " np.int64(4),\n",
       " np.int64(2),\n",
       " np.int64(2),\n",
       " np.int64(6),\n",
       " np.int64(3),\n",
       " np.int64(2),\n",
       " np.int64(6),\n",
       " np.int64(5),\n",
       " np.int64(4),\n",
       " np.int64(8),\n",
       " np.int64(9),\n",
       " np.int64(7),\n",
       " np.int64(1),\n",
       " np.int64(3),\n",
       " np.int64(0),\n",
       " np.int64(3),\n",
       " np.int64(8),\n",
       " np.int64(3),\n",
       " np.int64(1),\n",
       " np.int64(9),\n",
       " np.int64(3),\n",
       " np.int64(4),\n",
       " np.int64(4),\n",
       " np.int64(6),\n",
       " np.int64(4),\n",
       " np.int64(2),\n",
       " np.int64(1),\n",
       " np.int64(8),\n",
       " np.int64(2),\n",
       " np.int64(5),\n",
       " np.int64(4),\n",
       " np.int64(8),\n",
       " np.int64(3),\n",
       " np.int64(4),\n",
       " np.int64(0),\n",
       " np.int64(0),\n",
       " np.int64(2),\n",
       " np.int64(3),\n",
       " np.int64(2),\n",
       " np.int64(7),\n",
       " np.int64(1),\n",
       " np.int64(0),\n",
       " np.int64(8),\n",
       " np.int64(7),\n",
       " np.int64(4),\n",
       " np.int64(4),\n",
       " np.int64(7),\n",
       " np.int64(9),\n",
       " np.int64(6),\n",
       " np.int64(9),\n",
       " np.int64(0),\n",
       " np.int64(9),\n",
       " np.int64(8),\n",
       " np.int64(0),\n",
       " np.int64(9),\n",
       " np.int64(6),\n",
       " np.int64(0),\n",
       " np.int64(6),\n",
       " np.int64(3),\n",
       " np.int64(5),\n",
       " np.int64(4),\n",
       " np.int64(8),\n",
       " np.int64(3),\n",
       " np.int64(3),\n",
       " np.int64(9),\n",
       " np.int64(3),\n",
       " np.int64(3),\n",
       " np.int64(3),\n",
       " np.int64(7),\n",
       " np.int64(8),\n",
       " np.int64(0),\n",
       " np.int64(3),\n",
       " np.int64(2),\n",
       " np.int64(1),\n",
       " np.int64(7),\n",
       " np.int64(0),\n",
       " np.int64(6),\n",
       " np.int64(5),\n",
       " np.int64(4),\n",
       " np.int64(3),\n",
       " np.int64(3),\n",
       " np.int64(0),\n",
       " np.int64(9),\n",
       " np.int64(6),\n",
       " np.int64(3),\n",
       " np.int64(8),\n",
       " np.int64(0),\n",
       " np.int64(9),\n",
       " np.int64(9),\n",
       " np.int64(6),\n",
       " np.int64(8),\n",
       " np.int64(6),\n",
       " np.int64(8),\n",
       " np.int64(5),\n",
       " np.int64(7),\n",
       " np.int64(8),\n",
       " np.int64(6),\n",
       " np.int64(0),\n",
       " np.int64(2),\n",
       " np.int64(6),\n",
       " np.int64(0),\n",
       " np.int64(2),\n",
       " np.int64(3),\n",
       " np.int64(3),\n",
       " np.int64(1),\n",
       " np.int64(9),\n",
       " np.int64(7),\n",
       " np.int64(5),\n",
       " np.int64(1),\n",
       " np.int64(0),\n",
       " np.int64(8),\n",
       " np.int64(4),\n",
       " np.int64(6),\n",
       " np.int64(2),\n",
       " np.int64(6),\n",
       " np.int64(7),\n",
       " np.int64(9),\n",
       " np.int64(3),\n",
       " np.int64(2),\n",
       " np.int64(9),\n",
       " np.int64(8),\n",
       " np.int64(2),\n",
       " np.int64(2),\n",
       " np.int64(9),\n",
       " np.int64(2),\n",
       " np.int64(7),\n",
       " np.int64(3),\n",
       " np.int64(5),\n",
       " np.int64(9),\n",
       " np.int64(1),\n",
       " np.int64(8),\n",
       " np.int64(0),\n",
       " np.int64(2),\n",
       " np.int64(0),\n",
       " np.int64(5),\n",
       " np.int64(2),\n",
       " np.int64(1),\n",
       " np.int64(3),\n",
       " np.int64(7),\n",
       " np.int64(6),\n",
       " np.int64(7),\n",
       " np.int64(1),\n",
       " np.int64(2),\n",
       " np.int64(5),\n",
       " np.int64(8),\n",
       " np.int64(0),\n",
       " np.int64(3),\n",
       " np.int64(7),\n",
       " np.int64(3),\n",
       " np.int64(4),\n",
       " np.int64(0),\n",
       " np.int64(9),\n",
       " np.int64(1),\n",
       " np.int64(8),\n",
       " np.int64(6),\n",
       " np.int64(7),\n",
       " np.int64(7),\n",
       " np.int64(4),\n",
       " np.int64(3),\n",
       " np.int64(4),\n",
       " np.int64(9),\n",
       " np.int64(1),\n",
       " np.int64(9),\n",
       " np.int64(5),\n",
       " np.int64(1),\n",
       " np.int64(7),\n",
       " np.int64(3),\n",
       " np.int64(9),\n",
       " np.int64(7),\n",
       " np.int64(6),\n",
       " np.int64(9),\n",
       " np.int64(1),\n",
       " np.int64(3),\n",
       " np.int64(3),\n",
       " np.int64(8),\n",
       " np.int64(3),\n",
       " np.int64(3),\n",
       " np.int64(6),\n",
       " np.int64(7),\n",
       " np.int64(2),\n",
       " np.int64(4),\n",
       " np.int64(5),\n",
       " np.int64(8),\n",
       " np.int64(5),\n",
       " np.int64(1),\n",
       " np.int64(1),\n",
       " np.int64(4),\n",
       " np.int64(4),\n",
       " np.int64(3),\n",
       " np.int64(1),\n",
       " np.int64(0),\n",
       " np.int64(7),\n",
       " np.int64(7),\n",
       " np.int64(0),\n",
       " np.int64(7),\n",
       " np.int64(9),\n",
       " np.int64(9),\n",
       " np.int64(4),\n",
       " np.int64(8),\n",
       " np.int64(5),\n",
       " np.int64(5),\n",
       " np.int64(4),\n",
       " np.int64(0),\n",
       " np.int64(8),\n",
       " np.int64(2),\n",
       " np.int64(1),\n",
       " np.int64(0),\n",
       " np.int64(8),\n",
       " np.int64(4),\n",
       " np.int64(8),\n",
       " np.int64(0),\n",
       " np.int64(4),\n",
       " np.int64(0),\n",
       " np.int64(6),\n",
       " np.int64(1),\n",
       " np.int64(7),\n",
       " np.int64(3),\n",
       " np.int64(2),\n",
       " np.int64(6),\n",
       " np.int64(7),\n",
       " np.int64(2),\n",
       " np.int64(6),\n",
       " np.int64(9),\n",
       " np.int64(3),\n",
       " np.int64(1),\n",
       " np.int64(4),\n",
       " np.int64(6),\n",
       " np.int64(2),\n",
       " np.int64(5),\n",
       " np.int64(9),\n",
       " np.int64(2),\n",
       " np.int64(0),\n",
       " np.int64(6),\n",
       " np.int64(2),\n",
       " np.int64(1),\n",
       " np.int64(7),\n",
       " np.int64(3),\n",
       " np.int64(4),\n",
       " np.int64(1),\n",
       " np.int64(0),\n",
       " np.int64(5),\n",
       " np.int64(4),\n",
       " np.int64(3),\n",
       " np.int64(1),\n",
       " np.int64(1),\n",
       " np.int64(7),\n",
       " np.int64(4),\n",
       " np.int64(9),\n",
       " np.int64(9),\n",
       " np.int64(4),\n",
       " np.int64(8),\n",
       " np.int64(4),\n",
       " np.int64(0),\n",
       " np.int64(2),\n",
       " np.int64(4),\n",
       " np.int64(5),\n",
       " np.int64(1),\n",
       " np.int64(1),\n",
       " np.int64(6),\n",
       " np.int64(4),\n",
       " np.int64(7),\n",
       " np.int64(1),\n",
       " np.int64(9),\n",
       " np.int64(4),\n",
       " np.int64(2),\n",
       " np.int64(4),\n",
       " np.int64(1),\n",
       " np.int64(5),\n",
       " np.int64(5),\n",
       " np.int64(3),\n",
       " np.int64(8),\n",
       " np.int64(3),\n",
       " np.int64(1),\n",
       " np.int64(4),\n",
       " np.int64(5),\n",
       " np.int64(6),\n",
       " np.int64(8),\n",
       " np.int64(9),\n",
       " np.int64(4),\n",
       " np.int64(1),\n",
       " np.int64(5),\n",
       " np.int64(3),\n",
       " np.int64(8),\n",
       " np.int64(0),\n",
       " np.int64(3),\n",
       " np.int64(2),\n",
       " np.int64(5),\n",
       " np.int64(1),\n",
       " np.int64(2),\n",
       " np.int64(9),\n",
       " np.int64(3),\n",
       " np.int64(4),\n",
       " np.int64(4),\n",
       " np.int64(0),\n",
       " np.int64(8),\n",
       " np.int64(8),\n",
       " np.int64(3),\n",
       " np.int64(3),\n",
       " np.int64(1),\n",
       " np.int64(7),\n",
       " np.int64(3),\n",
       " np.int64(5),\n",
       " np.int64(9),\n",
       " np.int64(6),\n",
       " np.int64(3),\n",
       " np.int64(2),\n",
       " np.int64(6),\n",
       " np.int64(1),\n",
       " np.int64(3),\n",
       " np.int64(6),\n",
       " np.int64(0),\n",
       " np.int64(7),\n",
       " np.int64(2),\n",
       " np.int64(1),\n",
       " np.int64(7),\n",
       " np.int64(1),\n",
       " np.int64(4),\n",
       " np.int64(2),\n",
       " np.int64(4),\n",
       " np.int64(2),\n",
       " np.int64(1),\n",
       " np.int64(7),\n",
       " np.int64(9),\n",
       " np.int64(6),\n",
       " np.int64(1),\n",
       " np.int64(1),\n",
       " np.int64(2),\n",
       " np.int64(4),\n",
       " np.int64(3),\n",
       " np.int64(1),\n",
       " np.int64(7),\n",
       " np.int64(7),\n",
       " np.int64(4),\n",
       " np.int64(7),\n",
       " np.int64(0),\n",
       " np.int64(7),\n",
       " np.int64(3),\n",
       " np.int64(1),\n",
       " np.int64(3),\n",
       " np.int64(1),\n",
       " np.int64(0),\n",
       " np.int64(7),\n",
       " np.int64(7),\n",
       " np.int64(0),\n",
       " np.int64(3),\n",
       " np.int64(5),\n",
       " np.int64(5),\n",
       " np.int64(2),\n",
       " np.int64(7),\n",
       " np.int64(6),\n",
       " np.int64(6),\n",
       " np.int64(9),\n",
       " np.int64(2),\n",
       " np.int64(8),\n",
       " np.int64(3),\n",
       " np.int64(5),\n",
       " np.int64(2),\n",
       " np.int64(2),\n",
       " np.int64(5),\n",
       " np.int64(6),\n",
       " np.int64(0),\n",
       " np.int64(8),\n",
       " np.int64(2),\n",
       " np.int64(9),\n",
       " np.int64(2),\n",
       " np.int64(8),\n",
       " np.int64(8),\n",
       " np.int64(8),\n",
       " np.int64(8),\n",
       " np.int64(7),\n",
       " np.int64(4),\n",
       " np.int64(9),\n",
       " np.int64(3),\n",
       " np.int64(0),\n",
       " np.int64(6),\n",
       " np.int64(6),\n",
       " np.int64(3),\n",
       " np.int64(2),\n",
       " np.int64(1),\n",
       " np.int64(3),\n",
       " np.int64(2),\n",
       " np.int64(2),\n",
       " np.int64(9),\n",
       " np.int64(3),\n",
       " np.int64(0),\n",
       " np.int64(0),\n",
       " np.int64(5),\n",
       " np.int64(7),\n",
       " np.int64(8),\n",
       " np.int64(1),\n",
       " np.int64(4),\n",
       " np.int64(4),\n",
       " np.int64(6),\n",
       " np.int64(0),\n",
       " np.int64(2),\n",
       " np.int64(9),\n",
       " np.int64(1),\n",
       " np.int64(4),\n",
       " np.int64(7),\n",
       " np.int64(4),\n",
       " np.int64(7),\n",
       " np.int64(3),\n",
       " np.int64(9),\n",
       " np.int64(8),\n",
       " np.int64(8),\n",
       " np.int64(4),\n",
       " np.int64(7),\n",
       " np.int64(1),\n",
       " np.int64(2),\n",
       " np.int64(1),\n",
       " np.int64(2),\n",
       " np.int64(2),\n",
       " np.int64(3),\n",
       " np.int64(7),\n",
       " np.int64(3),\n",
       " np.int64(2),\n",
       " np.int64(3),\n",
       " np.int64(9),\n",
       " np.int64(1),\n",
       " np.int64(7),\n",
       " np.int64(4),\n",
       " np.int64(0),\n",
       " np.int64(3),\n",
       " np.int64(5),\n",
       " np.int64(5),\n",
       " np.int64(8),\n",
       " np.int64(6),\n",
       " np.int64(5),\n",
       " np.int64(2),\n",
       " np.int64(6),\n",
       " np.int64(7),\n",
       " np.int64(6),\n",
       " np.int64(6),\n",
       " np.int64(3),\n",
       " np.int64(2),\n",
       " np.int64(7),\n",
       " np.int64(9),\n",
       " np.int64(1),\n",
       " np.int64(1),\n",
       " np.int64(7),\n",
       " np.int64(4),\n",
       " np.int64(6),\n",
       " np.int64(4),\n",
       " np.int64(9),\n",
       " np.int64(5),\n",
       " np.int64(1),\n",
       " np.int64(3),\n",
       " np.int64(3),\n",
       " np.int64(4),\n",
       " np.int64(7),\n",
       " np.int64(8),\n",
       " np.int64(9),\n",
       " np.int64(1),\n",
       " np.int64(1),\n",
       " np.int64(0),\n",
       " np.int64(9),\n",
       " np.int64(1),\n",
       " np.int64(4),\n",
       " np.int64(4),\n",
       " np.int64(5),\n",
       " np.int64(4),\n",
       " np.int64(0),\n",
       " np.int64(6),\n",
       " np.int64(2),\n",
       " np.int64(2),\n",
       " np.int64(3),\n",
       " np.int64(1),\n",
       " np.int64(5),\n",
       " np.int64(1),\n",
       " np.int64(2),\n",
       " np.int64(0),\n",
       " np.int64(3),\n",
       " np.int64(8),\n",
       " np.int64(1),\n",
       " np.int64(2),\n",
       " np.int64(6),\n",
       " np.int64(7),\n",
       " np.int64(1),\n",
       " np.int64(6),\n",
       " np.int64(2),\n",
       " np.int64(3),\n",
       " np.int64(9),\n",
       " np.int64(0),\n",
       " np.int64(1),\n",
       " np.int64(2),\n",
       " np.int64(2),\n",
       " np.int64(0),\n",
       " np.int64(8),\n",
       " np.int64(9),\n",
       " ...]"
      ]
     },
     "execution_count": 88,
     "metadata": {},
     "output_type": "execute_result"
    }
   ],
   "source": [
    "y_predicted_label=[np.argmax(i) for i in y_predicted]\n",
    "y_predicted_label"
   ]
  },
  {
   "cell_type": "markdown",
   "id": "efcab2d5",
   "metadata": {},
   "source": [
    "#### Condfusion matrix"
   ]
  },
  {
   "cell_type": "code",
   "execution_count": 89,
   "id": "9a8b1ec2",
   "metadata": {},
   "outputs": [
    {
     "data": {
      "text/plain": [
       "<tf.Tensor: shape=(10, 10), dtype=int32, numpy=\n",
       "array([[ 964,    0,    1,    3,    0,    6,    3,    2,    0,    1],\n",
       "       [   0, 1120,    1,    3,    0,    1,    3,    2,    5,    0],\n",
       "       [   7,    1,  977,   21,    1,    0,    3,   13,    8,    1],\n",
       "       [   1,    1,    3,  984,    2,    3,    0,    9,    5,    2],\n",
       "       [   2,    0,    1,    1,  940,    1,    9,    2,    3,   23],\n",
       "       [   5,    2,    0,   12,    3,  848,    6,    2,    7,    7],\n",
       "       [   7,    3,    0,    0,    5,    9,  930,    0,    4,    0],\n",
       "       [   0,    8,   12,   10,    1,    1,    0,  985,    1,   10],\n",
       "       [   5,    1,    1,   24,    7,    9,    7,    5,  910,    5],\n",
       "       [   6,    4,    1,   12,   13,    4,    0,    6,    4,  959]],\n",
       "      dtype=int32)>"
      ]
     },
     "execution_count": 89,
     "metadata": {},
     "output_type": "execute_result"
    }
   ],
   "source": [
    "confusion_matrix=tf.math.confusion_matrix(labels=y_test,predictions=y_predicted_label)\n",
    "confusion_matrix"
   ]
  },
  {
   "cell_type": "markdown",
   "id": "1b2e02f0",
   "metadata": {},
   "source": [
    "#### Visualization"
   ]
  },
  {
   "cell_type": "markdown",
   "id": "f41c3bc6",
   "metadata": {},
   "source": [
    "###### This creates a heatmap — a color-coded matrix where the color intensity represents the magnitude of the values.\n",
    "###### annot=True:\n",
    "###### This adds numerical annotations (i.e., the numbers) to each cell of the heatmap, so you can see exact counts.\n",
    "###### fmt='d':\n",
    "###### This formats the annotations as decimal integers (d = decimal)."
   ]
  },
  {
   "cell_type": "code",
   "execution_count": 98,
   "id": "d54af753",
   "metadata": {},
   "outputs": [
    {
     "data": {
      "image/png": "[encoded data removed]",
      "text/plain": [
       "<Figure size 1000x700 with 2 Axes>"
      ]
     },
     "metadata": {},
     "output_type": "display_data"
    }
   ],
   "source": [
    "import seaborn as sns\n",
    "plt.figure(figsize=(10,7))\n",
    "sns.heatmap(confusion_matrix,annot=True,fmt='d')\n",
    "plt.xlabel('Predicted values')\n",
    "plt.ylabel('Truth values')\n",
    "plt.title('Confusion matrix')\n",
    "plt.show()"
   ]
  },
  {
   "cell_type": "code",
   "execution_count": 96,
   "id": "842cf043",
   "metadata": {},
   "outputs": [],
   "source": [
    "# Any thing that is not in daigonal is error "
   ]
  },
  {
   "cell_type": "code",
   "execution_count": null,
   "id": "79b63417",
   "metadata": {},
   "outputs": [],
   "source": []
  }
 ],
 "metadata": {
  "kernelspec": {
   "display_name": "Python 3",
   "language": "python",
   "name": "python3"
  },
  "language_info": {
   "codemirror_mode": {
    "name": "ipython",
    "version": 3
   },
   "file_extension": ".py",
   "mimetype": "text/x-python",
   "name": "python",
   "nbconvert_exporter": "python",
   "pygments_lexer": "ipython3",
   "version": "3.11.8"
  }
 },
 "nbformat": 4,
 "nbformat_minor": 5
}
